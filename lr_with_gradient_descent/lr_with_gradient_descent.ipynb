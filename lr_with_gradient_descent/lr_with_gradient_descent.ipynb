{
 "cells": [
  {
   "cell_type": "markdown",
   "id": "52b03faf-8440-4a92-8824-3122276979e1",
   "metadata": {},
   "source": [
    "## Linear Regression with Gradient Descent\n",
    "\n",
    "Linear regression problem solved with stochastic gradient descent algorithm."
   ]
  },
  {
   "cell_type": "code",
   "execution_count": 2,
   "id": "c56ab40c-5ba8-485d-ba11-0798503d91b2",
   "metadata": {},
   "outputs": [],
   "source": [
    "import numpy as np\n",
    "import pandas as pd\n",
    "import matplotlib.pyplot as plt\n",
    "import torch\n",
    "import torch.optim as optim\n",
    "import torch.nn as nn\n",
    "device = 'cuda' if torch.cuda.is_available() else 'cpu'"
   ]
  },
  {
   "cell_type": "markdown",
   "id": "d0f082be-a8c6-4bae-87c2-551a317102b8",
   "metadata": {},
   "source": [
    "### Dataset\n",
    "Dataset consists of data from 145 5-dimensional data points. Each data point represents an American power supply firm. The dimensions are:\n",
    "* **TC**: Total cost\n",
    "* **Q**: Output\n",
    "* **PL**: Price of labor\n",
    "* **PF**: Price of fuel\n",
    "* **PK**: Price of capital\n",
    "\n",
    "The dataset is from the year 1955."
   ]
  },
  {
   "cell_type": "code",
   "execution_count": 3,
   "id": "91e322b9-317c-4dcb-a3cf-0566b0dea15a",
   "metadata": {},
   "outputs": [
    {
     "name": "stdout",
     "output_type": "stream",
     "text": [
      "Shape of the dataset: (145, 5)\n",
      "Number of missing values: 0\n"
     ]
    },
    {
     "data": {
      "text/html": [
       "<div>\n",
       "<style scoped>\n",
       "    .dataframe tbody tr th:only-of-type {\n",
       "        vertical-align: middle;\n",
       "    }\n",
       "\n",
       "    .dataframe tbody tr th {\n",
       "        vertical-align: top;\n",
       "    }\n",
       "\n",
       "    .dataframe thead th {\n",
       "        text-align: right;\n",
       "    }\n",
       "</style>\n",
       "<table border=\"1\" class=\"dataframe\">\n",
       "  <thead>\n",
       "    <tr style=\"text-align: right;\">\n",
       "      <th></th>\n",
       "      <th>TC</th>\n",
       "      <th>Q</th>\n",
       "      <th>PL</th>\n",
       "      <th>PF</th>\n",
       "      <th>PK</th>\n",
       "    </tr>\n",
       "  </thead>\n",
       "  <tbody>\n",
       "    <tr>\n",
       "      <th>0</th>\n",
       "      <td>0.082</td>\n",
       "      <td>2</td>\n",
       "      <td>2.09</td>\n",
       "      <td>17.9</td>\n",
       "      <td>183</td>\n",
       "    </tr>\n",
       "    <tr>\n",
       "      <th>1</th>\n",
       "      <td>0.661</td>\n",
       "      <td>3</td>\n",
       "      <td>2.05</td>\n",
       "      <td>35.1</td>\n",
       "      <td>174</td>\n",
       "    </tr>\n",
       "    <tr>\n",
       "      <th>2</th>\n",
       "      <td>0.990</td>\n",
       "      <td>4</td>\n",
       "      <td>2.05</td>\n",
       "      <td>35.1</td>\n",
       "      <td>171</td>\n",
       "    </tr>\n",
       "    <tr>\n",
       "      <th>3</th>\n",
       "      <td>0.315</td>\n",
       "      <td>4</td>\n",
       "      <td>1.83</td>\n",
       "      <td>32.2</td>\n",
       "      <td>166</td>\n",
       "    </tr>\n",
       "    <tr>\n",
       "      <th>4</th>\n",
       "      <td>0.197</td>\n",
       "      <td>5</td>\n",
       "      <td>2.12</td>\n",
       "      <td>28.6</td>\n",
       "      <td>233</td>\n",
       "    </tr>\n",
       "  </tbody>\n",
       "</table>\n",
       "</div>"
      ],
      "text/plain": [
       "      TC  Q    PL    PF   PK\n",
       "0  0.082  2  2.09  17.9  183\n",
       "1  0.661  3  2.05  35.1  174\n",
       "2  0.990  4  2.05  35.1  171\n",
       "3  0.315  4  1.83  32.2  166\n",
       "4  0.197  5  2.12  28.6  233"
      ]
     },
     "execution_count": 3,
     "metadata": {},
     "output_type": "execute_result"
    }
   ],
   "source": [
    "# Read data set\n",
    "df = pd.read_csv('nerlove.csv')\n",
    "print('Shape of the dataset:', df.shape)\n",
    "print('Number of missing values:', df.isna().sum().sum())\n",
    "df.head()"
   ]
  },
  {
   "cell_type": "markdown",
   "id": "69cf53a3-fe0d-4d11-bddf-f411fd84d78a",
   "metadata": {},
   "source": [
    "### Problem formulation"
   ]
  },
  {
   "cell_type": "markdown",
   "id": "74b9130c-adaf-4f22-991c-be232ab5bbad",
   "metadata": {},
   "source": [
    "Let's assume that the output of each firm, $Q$, can be derived from the following production \n",
    "function: </br>\n",
    "$Q = F(L, F, K)$ </br>\n",
    "If we assume a Cobb-Douglas technology, the production function would be: </br>\n",
    "$F(L, F, K) ) = A \\cdot L^\\alpha \\cdot F^\\beta \\cdot K^\\gamma$ where $\\alpha + \\beta + \\gamma = r$\n",
    "and $A$ is the technology level of the firm. </br>\n",
    "\n",
    "Thus the total cost function of a firm would be:\n",
    "$TC = r \\cdot (A \\cdot \\alpha^\\alpha \\beta^\\beta \\gamma^\\gamma)^{-1/r} \\cdot Q^{1/r} \\cdot \n",
    "P_L^{\\alpha/r} P_F^{\\beta/r} P_K^{\\gamma/r}$ </br>\n",
    "\n",
    "From this, we can derive a log-log model: </br>\n",
    "$loc(TC) = \\mu + \\dfrac{1}{r}log(Q) + \\dfrac{\\alpha}{r}log(P_L) + \\dfrac{\\beta}{r}log(P_F) + \\dfrac{\\gamma}{r}log(P_K)$ where $\\mu$ is $log(A \\cdot \\alpha^\\alpha \\beta^\\beta \\gamma^\\gamma)^{-1/r}$\n",
    "\n",
    "From this, we get a linear regression model: </br>\n",
    "$log(TC) = \\beta + w_1 \\cdot log(Q) + w_2 \\cdot log(P_L) + w_3 \\cdot log(P_F) + w_4 \\cdot log(P_K) + \\epsilon$"
   ]
  },
  {
   "cell_type": "code",
   "execution_count": 4,
   "id": "e339fd8f-ffb5-4353-bd7e-b0b9397a1608",
   "metadata": {},
   "outputs": [
    {
     "name": "stdout",
     "output_type": "stream",
     "text": [
      "log(TC) (y-axis) vs. log(Q), log(PL), log(PF) & log(PK) (x-axis)\n"
     ]
    },
    {
     "data": {
      "image/png": "[encoded data removed]",
      "text/plain": [
       "<Figure size 432x288 with 4 Axes>"
      ]
     },
     "metadata": {
      "needs_background": "light"
     },
     "output_type": "display_data"
    }
   ],
   "source": [
    "fig, ax = plt.subplots(nrows=2, ncols=2)\n",
    "\n",
    "response_vars = [np.log(df['Q']), np.log(df['PL']), np.log(df['PF']), np.log(df['PK'])]\n",
    "\n",
    "idx = 0\n",
    "for row in ax:\n",
    "    for col in row:\n",
    "        col.scatter(response_vars[idx], np.log(df['TC']))\n",
    "        idx += 1\n",
    "print('log(TC) (y-axis) vs. log(Q), log(PL), log(PF) & log(PK) (x-axis)')\n",
    "plt.show()"
   ]
  },
  {
   "cell_type": "markdown",
   "id": "4fc1e30b-a04f-43c4-82de-862fb9e419bd",
   "metadata": {},
   "source": [
    "### Data to tensors"
   ]
  },
  {
   "cell_type": "code",
   "execution_count": 5,
   "id": "a23c2ea2-e772-4cca-912e-0411dd940a3a",
   "metadata": {},
   "outputs": [
    {
     "name": "stdout",
     "output_type": "stream",
     "text": [
      "(145, 4) (145, 1)\n"
     ]
    }
   ],
   "source": [
    "# Pandas to numpy\n",
    "X = df[['Q', 'PL', 'PF', 'PK']].to_numpy()\n",
    "X = np.log(X)\n",
    "y = df['TC'].to_numpy()\n",
    "y = np.log(y)\n",
    "y = np.expand_dims(y, axis=1)\n",
    "\n",
    "print(X.shape, y.shape)"
   ]
  },
  {
   "cell_type": "code",
   "execution_count": 13,
   "id": "a2ad3d79-088a-46f8-bae9-887165c5c564",
   "metadata": {},
   "outputs": [
    {
     "name": "stdout",
     "output_type": "stream",
     "text": [
      "(116, 4) (116, 1) (29, 4) (29, 1)\n"
     ]
    }
   ],
   "source": [
    "# Splitting the dataset\n",
    "np.random.seed(0)\n",
    "\n",
    "n = df.shape[0]\n",
    "idx = np.arange(n)\n",
    "np.random.shuffle(idx)\n",
    "train_idx = idx[:int(0.8*n)]\n",
    "test_idx = idx[int(0.8*n):]\n",
    "\n",
    "X_train, y_train = X[train_idx], y[train_idx]\n",
    "X_test, y_test = X[test_idx], y[test_idx]\n",
    "\n",
    "print(X_train.shape, y_train.shape, X_test.shape, y_test.shape)"
   ]
  },
  {
   "cell_type": "code",
   "execution_count": 25,
   "id": "a18aa905-a140-440f-a22a-c629f5616d51",
   "metadata": {},
   "outputs": [
    {
     "name": "stdout",
     "output_type": "stream",
     "text": [
      "torch.Size([116, 4]) torch.Size([116, 1])\n"
     ]
    }
   ],
   "source": [
    "X_train_t = torch.as_tensor(X_train).float().to(device)\n",
    "y_train_t = torch.as_tensor(y_train).float().to(device)\n",
    "print(X_train_t.size(), y_train_t.size())"
   ]
  },
  {
   "cell_type": "markdown",
   "id": "7583e5fc-a33d-4803-9c4f-ef63e8a6c402",
   "metadata": {},
   "source": [
    "### Training the model\n",
    "\n",
    "$log(TC) = \\beta + w_1 \\cdot log(Q) + w_2 \\cdot log(P_L) + w_3 \\cdot log(P_F) + w_4 \\cdot log(P_K) + \\epsilon$\n"
   ]
  },
  {
   "cell_type": "code",
   "execution_count": 111,
   "id": "6293fcc0-0946-46b7-b3c6-6ffe918d38f9",
   "metadata": {},
   "outputs": [],
   "source": [
    "# Hypoerparameter initialization\n",
    "lr = 0.01\n",
    "n_epochs = 100\n",
    "\n",
    "# Parameter initialization\n",
    "torch.manual_seed(0)\n",
    "\n",
    "# Linear model\n",
    "dim = X_train.shape[1]\n",
    "model = nn.Sequential(nn.Linear(in_features=dim, out_features=1, bias=True)).to(device)\n",
    "#model = LinReg().to(device)\n",
    "\n",
    "# Optimizer & loss\n",
    "opt = optim.SGD(model.parameters(), lr=lr)\n",
    "mse = nn.MSELoss(reduction='mean')"
   ]
  },
  {
   "cell_type": "code",
   "execution_count": 112,
   "id": "fc8e8a69-dd12-4586-bb1d-3b4f5c2dd73b",
   "metadata": {},
   "outputs": [
    {
     "name": "stdout",
     "output_type": "stream",
     "text": [
      "Loss: tensor(26.2105, grad_fn=<MseLossBackward0>) Epoch: 0\n",
      "Loss: tensor(0.3957, grad_fn=<MseLossBackward0>) Epoch: 10\n",
      "Loss: tensor(0.3158, grad_fn=<MseLossBackward0>) Epoch: 20\n",
      "Loss: tensor(0.2799, grad_fn=<MseLossBackward0>) Epoch: 30\n",
      "Loss: tensor(0.2622, grad_fn=<MseLossBackward0>) Epoch: 40\n",
      "Loss: tensor(0.2529, grad_fn=<MseLossBackward0>) Epoch: 50\n",
      "Loss: tensor(0.2474, grad_fn=<MseLossBackward0>) Epoch: 60\n",
      "Loss: tensor(0.2436, grad_fn=<MseLossBackward0>) Epoch: 70\n",
      "Loss: tensor(0.2407, grad_fn=<MseLossBackward0>) Epoch: 80\n",
      "Loss: tensor(0.2381, grad_fn=<MseLossBackward0>) Epoch: 90\n",
      "Loss: tensor(0.2360, grad_fn=<MseLossBackward0>) Epoch: 99\n",
      "OrderedDict([('0.weight', tensor([[ 0.6729,  0.2949, -0.2482, -0.3662]])), ('0.bias', tensor([-0.1926]))])\n"
     ]
    }
   ],
   "source": [
    "# Loss tracking\n",
    "loss_track = np.zeros(n_epochs)\n",
    "\n",
    "# Training\n",
    "for epoch in range(n_epochs):\n",
    "    model.train()\n",
    "    y_hat_t = model(X_train_t)\n",
    "    loss = mse(y_hat_t, y_train_t)\n",
    "    loss_track[epoch] = loss\n",
    "    if epoch == n_epochs-1 or epoch % 10 == 0:\n",
    "        print('Loss:', loss, 'Epoch:', epoch)\n",
    "    loss.backward()\n",
    "    opt.step()\n",
    "    opt.zero_grad()\n",
    "print(model.state_dict())"
   ]
  },
  {
   "cell_type": "code",
   "execution_count": 113,
   "id": "3962aead-8a7b-4979-b176-62a0f535c3e1",
   "metadata": {},
   "outputs": [
    {
     "data": {
      "text/plain": [
       "Text(0.5, 1.0, 'MSE over 100 epochs')"
      ]
     },
     "execution_count": 113,
     "metadata": {},
     "output_type": "execute_result"
    },
    {
     "data": {
      "image/png": "[encoded data removed]",
      "text/plain": [
       "<Figure size 432x288 with 1 Axes>"
      ]
     },
     "metadata": {
      "needs_background": "light"
     },
     "output_type": "display_data"
    }
   ],
   "source": [
    "plt.plot(np.arange(n_epochs), loss_track)\n",
    "plt.title(f'MSE over {n_epochs} epochs')"
   ]
  },
  {
   "cell_type": "code",
   "execution_count": 135,
   "id": "864a8d79-4b8d-4f16-b6b8-023095370120",
   "metadata": {},
   "outputs": [
    {
     "data": {
      "image/png": "[encoded data removed]",
      "text/plain": [
       "<Figure size 432x288 with 1 Axes>"
      ]
     },
     "metadata": {
      "needs_background": "light"
     },
     "output_type": "display_data"
    }
   ],
   "source": [
    "y_hat = y_hat_t.detach().numpy()\n",
    "#print(y_train)\n",
    "plt.scatter(np.arange(len(y_train)), y_train, label='True')\n",
    "plt.scatter(np.arange(len(y_train)), y_hat, label='Predicted')\n",
    "plt.legend(loc=\"upper left\")\n",
    "plt.title('Training results: True values vs. predicted values')\n",
    "plt.show()"
   ]
  },
  {
   "cell_type": "markdown",
   "id": "537dcb75-45c8-43a7-ab26-0812261f1ac8",
   "metadata": {},
   "source": [
    "### Sources\n",
    "Dataset: http://fhayashi.fc2web.com/datasets.htm </br>\n",
    "Problem formulation: F. Hayashi: Econometrics (2000) </br>"
   ]
  }
 ],
 "metadata": {
  "kernelspec": {
   "display_name": "pytorch_env",
   "language": "python",
   "name": "pytorch_env"
  },
  "language_info": {
   "codemirror_mode": {
    "name": "ipython",
    "version": 3
   },
   "file_extension": ".py",
   "mimetype": "text/x-python",
   "name": "python",
   "nbconvert_exporter": "python",
   "pygments_lexer": "ipython3",
   "version": "3.9.12"
  }
 },
 "nbformat": 4,
 "nbformat_minor": 5
}
